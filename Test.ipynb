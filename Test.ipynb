{
  "nbformat": 4,
  "nbformat_minor": 0,
  "metadata": {
    "colab": {
      "provenance": [],
      "collapsed_sections": [
        "9t25d1jWSS_G"
      ],
      "gpuType": "T4",
      "authorship_tag": "ABX9TyP7awuPAepfOEWGO7xNUrVG",
      "include_colab_link": true
    },
    "kernelspec": {
      "name": "python3",
      "display_name": "Python 3"
    },
    "language_info": {
      "name": "python"
    },
    "accelerator": "GPU"
  },
  "cells": [
    {
      "cell_type": "markdown",
      "metadata": {
        "id": "view-in-github",
        "colab_type": "text"
      },
      "source": [
        "<a href=\"https://colab.research.google.com/github/perbik/AWSCC-CodeQuest-Frontend/blob/main/Test.ipynb\" target=\"_parent\"><img src=\"https://colab.research.google.com/assets/colab-badge.svg\" alt=\"Open In Colab\"/></a>"
      ]
    },
    {
      "cell_type": "markdown",
      "source": [
        "# **Multi-Level Classification Using ResNet-101 for Detecting AI-GeneratedArt Across Generative Models**\n"
      ],
      "metadata": {
        "id": "9t25d1jWSS_G"
      }
    },
    {
      "cell_type": "markdown",
      "source": [
        "# Testing"
      ],
      "metadata": {
        "id": "qD-u4kRbZ6hO"
      }
    },
    {
      "cell_type": "code",
      "source": [
        "import torch\n",
        "import torchvision\n",
        "import numpy as np"
      ],
      "metadata": {
        "id": "0LdzW7huaQ26"
      },
      "execution_count": 5,
      "outputs": []
    }
  ]
}